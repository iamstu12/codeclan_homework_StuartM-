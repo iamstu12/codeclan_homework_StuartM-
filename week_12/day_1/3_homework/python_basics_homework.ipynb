{
 "cells": [
  {
   "cell_type": "markdown",
   "metadata": {},
   "source": [
    "# MVP"
   ]
  },
  {
   "cell_type": "markdown",
   "metadata": {},
   "source": [
    "## Finish what you start...\n",
    "\n",
    "Write a function that takes in a list and returns a two-element list containing the *first* and *last* elements of the inputted list. For example, for input `[3, 6, 2,  19]`, the function should return `[3, 19]`"
   ]
  },
  {
   "cell_type": "markdown",
   "metadata": {},
   "source": [
    "## Your letters are numbered\n",
    "\n",
    "Write a function that takes in a sentence and returns a dictionary containing a count of letters and digits. For example, for input `\"hello world! 123\"`, the function output should be `{'digits': 3, 'letters': 10}` "
   ]
  },
  {
   "cell_type": "markdown",
   "metadata": {},
   "source": [
    "# Extension\n",
    "\n",
    "Write a class to model a bank account in a simple way. The class should have a `balance` attribute that starts at a value zero when the account is created, along with methods:\n",
    "\n",
    "  * `get_balance()` - prints balance to screen\n",
    "  * `deposit(amount)` - should deposit any positive `amount` and print new balance to screen, or print an error if `amount` is negative or zero. \n",
    "  * `withdraw(amount)` - should work only if there are sufficient funds in the account, withdraw any positive `amount` and print new balance to screen, otherwise it should print an error message.\n",
    "\n",
    "Create your own bank account object from your class and test that all of your methods work as expected, including testing for expected errors.\n",
    "\n",
    "[**Hint** - remember to pass `self` into all methods in the class]"
   ]
  }
 ],
 "metadata": {
  "jupytext": {
   "cell_metadata_filter": "tags,-all",
   "main_language": "python",
   "notebook_metadata_filter": "-all"
  },
  "kernelspec": {
   "display_name": "Python 3",
   "language": "python",
   "name": "python3"
  },
  "language_info": {
   "codemirror_mode": {
    "name": "ipython",
    "version": 3
   },
   "file_extension": ".py",
   "mimetype": "text/x-python",
   "name": "python",
   "nbconvert_exporter": "python",
   "pygments_lexer": "ipython3",
   "version": "3.7.4"
  }
 },
 "nbformat": 4,
 "nbformat_minor": 2
}
